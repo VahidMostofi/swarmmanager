{
 "cells": [
  {
   "cell_type": "code",
   "execution_count": null,
   "metadata": {},
   "outputs": [],
   "source": [
    "import sys\n",
    "import yaml\n",
    "import matplotlib.pyplot as plt\n",
    "import matplotlib"
   ]
  },
  {
   "cell_type": "code",
   "execution_count": null,
   "metadata": {},
   "outputs": [],
   "source": [
    "path = \"/home/vahid/Dropbox/data/swarm-manager-data/results/300_80_0.3_10/cpu_util_rule_based/cpu90_50.yml\"\n",
    "with open(path) as f:\n",
    "    __data = yaml.load(f, Loader=yaml.FullLoader)"
   ]
  },
  {
   "cell_type": "code",
   "execution_count": null,
   "metadata": {},
   "outputs": [],
   "source": [
    "colors = ['#77202F','#255958', '#BA9238', '#7E7D88']\n",
    "matplotlib.rcParams.update({'font.size': 18})\n",
    "def draw(data, key_name, services, ax, SLAs,with_legend):    \n",
    "    enough_cores = 1000000\n",
    "    y_label = None\n",
    "    if key_name == \"rt_ti_u_bound_c90_p95\":\n",
    "        y_label = \"Tolerance Interval (90,95)\"\n",
    "    else:\n",
    "        assert False\n",
    "    y_values = {}\n",
    "    for service in services:\n",
    "        y_values[service] = []\n",
    "    x_values = []\n",
    "    for config in data['configs']:\n",
    "        meets_sla = True\n",
    "        for service_idx, service in enumerate(services):\n",
    "            y_values[service].append(config['info'][service][key_name])\n",
    "            meets_sla = config['info'][service][key_name] < SLAs[service_idx] and meets_sla\n",
    "        total_cpu_count = config['specs']['auth']['replicaCount'] * config['specs']['auth']['CPULimits'] + config['specs']['books']['replicaCount'] * config['specs']['books']['CPULimits'] + config['specs']['gateway']['replicaCount'] * config['specs']['gateway']['CPULimits']\n",
    "        if meets_sla:\n",
    "            enough_cores = min(enough_cores, total_cpu_count)\n",
    "        \n",
    "        x_values.append(total_cpu_count)\n",
    "    for idx, service_name in enumerate(y_values):\n",
    "        ax.plot(x_values, y_values[service_name], '-o', color=colors[idx], label=y_label + ' for ' + service_name)\n",
    "    \n",
    "    ax.set_xlim(min(x_values)-1, 25)\n",
    "    ax.set_ylim(0, 1000)\n",
    "    ax.set_xlabel(\"Total number of cores\")\n",
    "    ax.set_ylabel(y_label)\n",
    "    ax.set_yticklabels([str(y) + 'ms' for y in ax.get_yticks()])\n",
    "    for idx, sla in enumerate(SLAs):\n",
    "        ax.plot([-1,25],[sla,sla], '--' if idx == 0 else '-.', label='SLA for ' + services[idx], color=colors[idx])\n",
    "    \n",
    "    ax.plot([enough_cores,enough_cores],[0,1000], '--', color=colors[2], label='enough cores to meet all SLAs')\n",
    "    if with_legend:\n",
    "        ax.legend()\n",
    "fig, (ax1) = plt.subplots(1, 1, figsize=(16,9))\n",
    "draw(__data, \"rt_ti_u_bound_c90_p95\", [\"auth\",\"books\"], ax1, [350,350], with_legend=True)\n",
    "plt.show()"
   ]
  },
  {
   "cell_type": "code",
   "execution_count": null,
   "metadata": {
    "scrolled": true
   },
   "outputs": [],
   "source": [
    "fig, axes = plt.subplots(4, 15, figsize=(15*8,4*4.5))\n",
    "dir_path = \"/home/vahid/Dropbox/data/swarm-manager-data/results/WORKLOAD/cpu_util_rule_based\"\n",
    "rules = ['cpu90_50.yml','cpu90_60.yml','cpu90_70.yml','cpu90_80.yml','cpu90_90.yml','cpu95_50.yml','cpu95_60.yml','cpu95_70.yml','cpu95_80.yml','cpu95_90.yml','cpu_mean_50.yml','cpu_mean_60.yml','cpu_mean_70.yml','cpu_mean_80.yml','cpu_mean_90.yml']\n",
    "workloads = [\"300_80_0.3_10\",\"400_80_0.5_10\",\"420_80_0.7_10\",\"500_80_0.65_10\"]\n",
    "\n",
    "matplotlib.rcParams.update({'font.size': 16})\n",
    "i = 0\n",
    "for workload in workloads:\n",
    "    base_path = dir_path.replace(\"WORKLOAD\", workload)\n",
    "    j = 0\n",
    "    for rule_name in rules:\n",
    "        path = base_path + \"/\" + rule_name\n",
    "        with open(path) as f:\n",
    "            __data = yaml.load(f, Loader=yaml.FullLoader)\n",
    "            draw(__data, \"rt_ti_u_bound_c90_p95\", [\"auth\",\"books\"], axes[i,j], [350,350], with_legend=False)\n",
    "        j += 1\n",
    "    i += 1\n",
    "plt.show()"
   ]
  },
  {
   "cell_type": "code",
   "execution_count": null,
   "metadata": {},
   "outputs": [],
   "source": []
  }
 ],
 "metadata": {
  "kernelspec": {
   "display_name": "Python 3",
   "language": "python",
   "name": "python3"
  },
  "language_info": {
   "codemirror_mode": {
    "name": "ipython",
    "version": 3
   },
   "file_extension": ".py",
   "mimetype": "text/x-python",
   "name": "python",
   "nbconvert_exporter": "python",
   "pygments_lexer": "ipython3",
   "version": "3.6.7"
  },
  "varInspector": {
   "cols": {
    "lenName": 16,
    "lenType": 16,
    "lenVar": 40
   },
   "kernels_config": {
    "python": {
     "delete_cmd_postfix": "",
     "delete_cmd_prefix": "del ",
     "library": "var_list.py",
     "varRefreshCmd": "print(var_dic_list())"
    },
    "r": {
     "delete_cmd_postfix": ") ",
     "delete_cmd_prefix": "rm(",
     "library": "var_list.r",
     "varRefreshCmd": "cat(var_dic_list()) "
    }
   },
   "types_to_exclude": [
    "module",
    "function",
    "builtin_function_or_method",
    "instance",
    "_Feature"
   ],
   "window_display": false
  }
 },
 "nbformat": 4,
 "nbformat_minor": 4
}
