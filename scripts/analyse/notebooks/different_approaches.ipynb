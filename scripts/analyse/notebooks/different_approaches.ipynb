{
 "cells": [
  {
   "cell_type": "code",
   "execution_count": null,
   "metadata": {},
   "outputs": [],
   "source": [
    "import numpy as np\n",
    "import yaml\n",
    "import pandas as pd\n",
    "import json\n",
    "from tqdm import tqdm"
   ]
  },
  {
   "cell_type": "code",
   "execution_count": 2,
   "metadata": {},
   "outputs": [],
   "source": [
    "SLA = 250\n",
    "key_name = \"rt_ti_u_bound_c90_p95\" #rt_ti_u_bound_c90_p95 responseTimes95th\n",
    "BASE_DIR = '/home/vahid/Dropbox/data/swarm-manager-data/results/nodejs_bookstore/'"
   ]
  },
  {
   "cell_type": "code",
   "execution_count": 3,
   "metadata": {},
   "outputs": [],
   "source": [
    "workloads = []\n",
    "for ap in [0.1,0.3,0.5,0.7,0.9]:\n",
    "    for vus in [400,475,550,625]:\n",
    "        workloads.append(str(vus)+\"_120_\"+str(ap)+\"_10\")      \n",
    "#\"300_120_0.3_10\",\n",
    "#\"400_120_0.5_10\"\n",
    "# workloads = [\"400_120_0.5_10\", \"500_120_0.65_10\", \"600_120_0.3_10\",\"700_120_0.5_10\"]"
   ]
  },
  {
   "cell_type": "code",
   "execution_count": 4,
   "metadata": {},
   "outputs": [
    {
     "data": {
      "text/plain": [
       "['400_120_0.1_10',\n",
       " '475_120_0.1_10',\n",
       " '550_120_0.1_10',\n",
       " '625_120_0.1_10',\n",
       " '400_120_0.3_10',\n",
       " '475_120_0.3_10',\n",
       " '550_120_0.3_10',\n",
       " '625_120_0.3_10',\n",
       " '400_120_0.5_10',\n",
       " '475_120_0.5_10',\n",
       " '550_120_0.5_10',\n",
       " '625_120_0.5_10',\n",
       " '400_120_0.7_10',\n",
       " '475_120_0.7_10',\n",
       " '550_120_0.7_10',\n",
       " '625_120_0.7_10',\n",
       " '400_120_0.9_10',\n",
       " '475_120_0.9_10',\n",
       " '550_120_0.9_10',\n",
       " '625_120_0.9_10']"
      ]
     },
     "execution_count": 4,
     "metadata": {},
     "output_type": "execute_result"
    }
   ],
   "source": [
    "workloads"
   ]
  },
  {
   "cell_type": "code",
   "execution_count": 5,
   "metadata": {},
   "outputs": [],
   "source": [
    "# cpu_util_rules = sorted(['cpu90>50','cpu90>60','cpu90>70','cpu90>80','cpu90>90',\n",
    "#                          'cpu95>50','cpu95>60','cpu95>70','cpu95>80','cpu95>90',\n",
    "#                          'cpu.mean>50','cpu.mean>60','cpu.mean>70','cpu.mean>80','cpu.mean>90'])\n",
    "strategies = {\n",
    "    'adfc-ti':'/AddDifferentFractionalCPUcores/adfc_utilization_ti_95_'+str(SLA)+'.yml',\n",
    "    'mc-adfc-ti':'/AddDifferentFractionalCPUcores/mc_adfc_utilization_ti_95_'+str(SLA)+'.yml',\n",
    "\n",
    "    'ppeus-ti':'/PerPathEUBasedScaling/ppeus_ti_equal_steps_950_'+str(SLA)+'.yml',\n",
    "    'mc-ppeus-ti':'/PerPathEUBasedScaling/mc_ppeus_ti_equal_steps_950_'+str(SLA)+'.yml',\n",
    "    \n",
    "    'afc-0.33-ti':'/AddFractionalCPUcores/afc_0.33_ti_95_'+str(SLA)+'.yml'\n",
    "}\n"
   ]
  },
  {
   "cell_type": "code",
   "execution_count": 6,
   "metadata": {},
   "outputs": [
    {
     "name": "stdout",
     "output_type": "stream",
     "text": [
      "workloads 20\n",
      "adfc-ti 20\n",
      "mc-adfc-ti 20\n",
      "ppeus-ti 20\n",
      "mc-ppeus-ti 20\n",
      "afc-0.33-ti 20\n"
     ]
    }
   ],
   "source": [
    "def does_specs_meet_sla(config):\n",
    "    return config['auth']['responseTimes']['total'][key_name] < SLA and \\\n",
    "            config['books']['responseTimes']['total'][key_name] < SLA\n",
    "\n",
    "temp_dict_cpu = {'workloads':[]}\n",
    "temp_dict_steps = {'workloads':[]}\n",
    "for strategy, file_path in strategies.items():\n",
    "    temp_dict_cpu[strategy] = []\n",
    "    temp_dict_steps[strategy] = []\n",
    "    for workload in workloads:\n",
    "        if len(workloads) != len(temp_dict_cpu['workloads']): temp_dict_cpu['workloads'].append(workload)\n",
    "        if len(workloads) != len(temp_dict_steps['workloads']): temp_dict_steps['workloads'].append(workload)\n",
    "        \n",
    "        meetsSLA = False\n",
    "        cpu_count = 0\n",
    "        requiredSteps = 0\n",
    "        with open(BASE_DIR + workload + file_path) as f:\n",
    "            data = yaml.load(f, Loader=yaml.FullLoader)\n",
    "        for _step in data['steps']:\n",
    "            requiredSteps += 1\n",
    "            cpu_count = _step['specs']['auth']['replicaCount'] * _step['specs']['auth']['CPULimits'] + _step['specs']['books']['replicaCount'] * _step['specs']['books']['CPULimits'] + _step['specs']['gateway']['replicaCount'] * _step['specs']['gateway']['CPULimits']\n",
    "            if does_specs_meet_sla(_step['info']):\n",
    "                meetsSLA = True\n",
    "                break\n",
    "        \n",
    "        if not meetsSLA: \n",
    "            requiredSteps = 0\n",
    "            cpu_count = 0\n",
    "            temp_dict_cpu[strategy].append('-')\n",
    "            temp_dict_steps[strategy].append('-')\n",
    "        else:\n",
    "#             temp_dict[strategy].append((np.round(cpu_count,2), requiredSteps))\n",
    "            temp_dict_cpu[strategy].append(np.round(cpu_count,2))\n",
    "            temp_dict_steps[strategy].append(requiredSteps)\n",
    "\n",
    "for col, values in temp_dict_cpu.items():\n",
    "    print(col, len(values))\n",
    "        "
   ]
  },
  {
   "cell_type": "code",
   "execution_count": 7,
   "metadata": {},
   "outputs": [
    {
     "name": "stdout",
     "output_type": "stream",
     "text": [
      "         workloads  adfc-ti  mc-adfc-ti  ppeus-ti  mc-ppeus-ti  afc-0.33-ti\n",
      "0   400_120_0.1_10     6.93        7.00      7.07         7.07         8.28\n",
      "1   475_120_0.1_10     7.86        8.00      7.84         7.84         9.27\n",
      "2   550_120_0.1_10     8.93        9.93     10.60        10.60        11.25\n",
      "3   625_120_0.1_10    10.86       11.86     11.36        12.36        13.89\n",
      "4   400_120_0.3_10     7.04        7.04      3.90         4.90         6.96\n",
      "5   475_120_0.3_10     7.82        7.82      7.63         8.63         7.95\n",
      "6   550_120_0.3_10     9.06        9.06      9.36         9.36         9.60\n",
      "7   625_120_0.3_10    10.07       10.07     11.09        13.09        11.25\n",
      "8   400_120_0.5_10     6.67        7.00      3.72         3.72         6.96\n",
      "9   475_120_0.5_10     7.67        8.00      7.42         8.42         7.62\n",
      "10  550_120_0.5_10     8.67        9.00      9.12         9.11         9.27\n",
      "11  625_120_0.5_10    10.00       10.60      9.81        10.81        10.26\n",
      "12  400_120_0.7_10     6.58        6.79      3.54         3.54         8.28\n",
      "13  475_120_0.7_10     6.79        7.58      7.21         8.21         8.94\n",
      "14  550_120_0.7_10     8.58        8.79      8.87         8.87        10.59\n",
      "15  625_120_0.7_10     9.58       10.00      9.54        10.54        11.25\n",
      "16  400_120_0.9_10     6.72        6.72      5.37         7.37         8.28\n",
      "17  475_120_0.9_10     7.65        7.65      7.00         8.00         9.60\n",
      "18  550_120_0.9_10     8.79        9.00      8.63         8.63        11.58\n",
      "19  625_120_0.9_10     9.86        9.79      9.26        10.26        13.23\n",
      "average number of CPU cores required to find the configuration which meet the SLA\n"
     ]
    },
    {
     "data": {
      "text/plain": [
       "adfc-ti        8.3065\n",
       "mc-adfc-ti     8.5850\n",
       "ppeus-ti       7.9170\n",
       "mc-ppeus-ti    8.5665\n",
       "afc-0.33-ti    9.7155\n",
       "dtype: float64"
      ]
     },
     "execution_count": 7,
     "metadata": {},
     "output_type": "execute_result"
    }
   ],
   "source": [
    "df = pd.DataFrame(temp_dict_cpu)\n",
    "print(df.head(25))\n",
    "print('average number of CPU cores required to find the configuration which meet the SLA')\n",
    "df.mean(axis=0)"
   ]
  },
  {
   "cell_type": "code",
   "execution_count": 8,
   "metadata": {},
   "outputs": [
    {
     "name": "stdout",
     "output_type": "stream",
     "text": [
      "         workloads  adfc-ti  mc-adfc-ti  ppeus-ti  mc-ppeus-ti  afc-0.33-ti\n",
      "0   400_120_0.1_10        5           5         3            3            8\n",
      "1   475_120_0.1_10        6           6         3            3            9\n",
      "2   550_120_0.1_10        7           8         4            4           11\n",
      "3   625_120_0.1_10        9          10         4            5           14\n",
      "4   400_120_0.3_10        5           5         1            2            6\n",
      "5   475_120_0.3_10        6           6         3            3            7\n",
      "6   550_120_0.3_10        7           7         3            3            9\n",
      "7   625_120_0.3_10        8           8         4            6           11\n",
      "8   400_120_0.5_10        5           5         1            1            5\n",
      "9   475_120_0.5_10        6           6         3            3            6\n",
      "10  550_120_0.5_10        7           7         3            3            8\n",
      "11  625_120_0.5_10        8           9         3            4            9\n",
      "12  400_120_0.7_10        5           5         1            1            8\n",
      "13  475_120_0.7_10        5           6         3            3            9\n",
      "14  550_120_0.7_10        7           7         3            3           11\n",
      "15  625_120_0.7_10        8           8         3            4           12\n",
      "16  400_120_0.9_10        5           5         2            4            9\n",
      "17  475_120_0.9_10        6           6         3            4           11\n",
      "18  550_120_0.9_10        8           8         3            3           14\n",
      "19  625_120_0.9_10        9           8         3            4           16\n",
      "average number of steps required to find the configuration which meet the SLA\n"
     ]
    },
    {
     "data": {
      "text/plain": [
       "adfc-ti        6.60\n",
       "mc-adfc-ti     6.75\n",
       "ppeus-ti       2.80\n",
       "mc-ppeus-ti    3.30\n",
       "afc-0.33-ti    9.65\n",
       "dtype: float64"
      ]
     },
     "execution_count": 8,
     "metadata": {},
     "output_type": "execute_result"
    }
   ],
   "source": [
    "df = pd.DataFrame(temp_dict_steps)\n",
    "print(df.head(25))\n",
    "print('average number of steps required to find the configuration which meet the SLA')\n",
    "df.mean(axis=0)"
   ]
  },
  {
   "cell_type": "code",
   "execution_count": 26,
   "metadata": {},
   "outputs": [
    {
     "name": "stdout",
     "output_type": "stream",
     "text": [
      "workload: 400_120_0.5_10\n",
      "(12.45, 2)\n",
      "(16.13, 5)\n",
      "(17.28, 6)\n",
      "(16.4, 10)\n",
      "(12.47, 20)\n",
      "best: (12.45, 2)\n",
      "=======\n"
     ]
    }
   ],
   "source": [
    "workloads = [\"400_120_0.5_10\"]\n",
    "def does_specs_meet_sla(config):\n",
    "    return config['auth']['responseTimes']['total'][key_name] < SLA and \\\n",
    "            config['books']['responseTimes']['total'][key_name] < SLA\n",
    "\n",
    "for workload in workloads:\n",
    "    cpu_counts = []\n",
    "    step_counts = []\n",
    "    meetsSLA = False\n",
    "    cpu_count = 0\n",
    "    requiredSteps = -1 # the first step is always 1,1,1\n",
    "    with open(BASE_DIR + workload + '/MOBO/mobo_CPU_split_mc.yml') as f:\n",
    "        data = yaml.load(f, Loader=yaml.FullLoader)\n",
    "    for _step in data['steps']:\n",
    "        meetsSLA = False\n",
    "        requiredSteps += 1\n",
    "        cpu_count = _step['specs']['auth']['replicaCount'] * _step['specs']['auth']['CPULimits'] + _step['specs']['books']['replicaCount'] * _step['specs']['books']['CPULimits'] + _step['specs']['gateway']['replicaCount'] * _step['specs']['gateway']['CPULimits']\n",
    "        if does_specs_meet_sla(_step['info']):\n",
    "            meetsSLA = True\n",
    "\n",
    "        if not meetsSLA: \n",
    "            cpu_count = 0\n",
    "        else:\n",
    "            cpu_counts.append(np.round(cpu_count,2))\n",
    "            step_counts.append(requiredSteps)\n",
    "    print(workload)\n",
    "    best_cpu_count = 10000\n",
    "    best_pair = (0,0)\n",
    "    for i in zip(cpu_counts,step_counts):\n",
    "        print(i)\n",
    "        if i[0] < best_cpu_count:\n",
    "            best_pair = i\n",
    "            best_cpu_count = i[0]\n",
    "    print('best:', best_pair)\n",
    "    print('==========')"
   ]
  },
  {
   "cell_type": "code",
   "execution_count": null,
   "metadata": {},
   "outputs": [],
   "source": []
  }
 ],
 "metadata": {
  "kernelspec": {
   "display_name": "Python 3",
   "language": "python",
   "name": "python3"
  },
  "language_info": {
   "codemirror_mode": {
    "name": "ipython",
    "version": 3
   },
   "file_extension": ".py",
   "mimetype": "text/x-python",
   "name": "python",
   "nbconvert_exporter": "python",
   "pygments_lexer": "ipython3",
   "version": "3.8.2"
  }
 },
 "nbformat": 4,
 "nbformat_minor": 4
}
