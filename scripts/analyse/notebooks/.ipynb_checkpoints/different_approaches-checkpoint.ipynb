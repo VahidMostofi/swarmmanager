{
 "cells": [
  {
   "cell_type": "code",
   "execution_count": 1,
   "metadata": {},
   "outputs": [],
   "source": [
    "import numpy as np\n",
    "import yaml\n",
    "import pandas as pd\n",
    "import json\n",
    "from tqdm import tqdm"
   ]
  },
  {
   "cell_type": "code",
   "execution_count": 2,
   "metadata": {},
   "outputs": [],
   "source": [
    "SLA = 250\n",
    "key_name = \"rt_ti_u_bound_c90_p95\" #rt_ti_u_bound_c90_p95 responseTimes95th\n",
    "BASE_DIR = '/home/vahid/Dropbox/data/swarm-manager-data/results/nodejs_bookstore/'"
   ]
  },
  {
   "cell_type": "code",
   "execution_count": 4,
   "metadata": {},
   "outputs": [],
   "source": [
    "workloads = []\n",
    "for ap in [0.1,0.3,0.5,0.7,0.9]:\n",
    "    for vus in [400,475,550,625,700]:\n",
    "        workloads.append(str(vus)+\"_120_\"+str(ap)+\"_10\")      \n",
    "#\"300_120_0.3_10\",\n",
    "#\"400_120_0.5_10\"\n",
    "# workloads = [\"400_120_0.5_10\", \"500_120_0.65_10\", \"600_120_0.3_10\",\"700_120_0.5_10\"]"
   ]
  },
  {
   "cell_type": "code",
   "execution_count": 5,
   "metadata": {},
   "outputs": [
    {
     "data": {
      "text/plain": [
       "['400_120_0.1_10',\n",
       " '475_120_0.1_10',\n",
       " '550_120_0.1_10',\n",
       " '625_120_0.1_10',\n",
       " '700_120_0.1_10',\n",
       " '400_120_0.3_10',\n",
       " '475_120_0.3_10',\n",
       " '550_120_0.3_10',\n",
       " '625_120_0.3_10',\n",
       " '700_120_0.3_10',\n",
       " '400_120_0.5_10',\n",
       " '475_120_0.5_10',\n",
       " '550_120_0.5_10',\n",
       " '625_120_0.5_10',\n",
       " '700_120_0.5_10',\n",
       " '400_120_0.7_10',\n",
       " '475_120_0.7_10',\n",
       " '550_120_0.7_10',\n",
       " '625_120_0.7_10',\n",
       " '700_120_0.7_10',\n",
       " '400_120_0.9_10',\n",
       " '475_120_0.9_10',\n",
       " '550_120_0.9_10',\n",
       " '625_120_0.9_10',\n",
       " '700_120_0.9_10']"
      ]
     },
     "execution_count": 5,
     "metadata": {},
     "output_type": "execute_result"
    }
   ],
   "source": [
    "workloads"
   ]
  },
  {
   "cell_type": "code",
   "execution_count": 6,
   "metadata": {},
   "outputs": [],
   "source": [
    "# cpu_util_rules = sorted(['cpu90>50','cpu90>60','cpu90>70','cpu90>80','cpu90>90',\n",
    "#                          'cpu95>50','cpu95>60','cpu95>70','cpu95>80','cpu95>90',\n",
    "#                          'cpu.mean>50','cpu.mean>60','cpu.mean>70','cpu.mean>80','cpu.mean>90'])\n",
    "strategies = {\n",
    "    'adfc-ti':'/AddDifferentFractionalCPUcores/adfc_utilization_ti_95_'+str(SLA)+'.yml',\n",
    "    'mc-adfc-ti':'/AddDifferentFractionalCPUcores/mc-adfc_utilization_ti_95_'+str(SLA)+'.yml',\n",
    "\n",
    "#     'afc-ti-0.33': '/AddFractionalCPUcores/afc_0.33_ti_95_' + str(SLA) + '.yml',\n",
    "#     'afc-rt-0.33': '/AddFractionalCPUcores/afc_0.33_rt_95_' + str(SLA) + '.yml',\n",
    "}\n"
   ]
  },
  {
   "cell_type": "code",
   "execution_count": null,
   "metadata": {},
   "outputs": [],
   "source": []
  }
 ],
 "metadata": {
  "kernelspec": {
   "display_name": "Python 3",
   "language": "python",
   "name": "python3"
  },
  "language_info": {
   "codemirror_mode": {
    "name": "ipython",
    "version": 3
   },
   "file_extension": ".py",
   "mimetype": "text/x-python",
   "name": "python",
   "nbconvert_exporter": "python",
   "pygments_lexer": "ipython3",
   "version": "3.8.2"
  }
 },
 "nbformat": 4,
 "nbformat_minor": 4
}
