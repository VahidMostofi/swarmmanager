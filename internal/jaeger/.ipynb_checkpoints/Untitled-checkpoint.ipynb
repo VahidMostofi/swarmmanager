{
 "cells": [
  {
   "cell_type": "code",
   "execution_count": 2,
   "metadata": {},
   "outputs": [],
   "source": [
    "import pandas as pd"
   ]
  },
  {
   "cell_type": "code",
   "execution_count": 3,
   "metadata": {},
   "outputs": [],
   "source": [
    "df = pd.read_csv('./results.csv')"
   ]
  },
  {
   "cell_type": "code",
   "execution_count": 12,
   "metadata": {},
   "outputs": [
    {
     "data": {
      "text/html": [
       "<div>\n",
       "<style scoped>\n",
       "    .dataframe tbody tr th:only-of-type {\n",
       "        vertical-align: middle;\n",
       "    }\n",
       "\n",
       "    .dataframe tbody tr th {\n",
       "        vertical-align: top;\n",
       "    }\n",
       "\n",
       "    .dataframe thead th {\n",
       "        text-align: right;\n",
       "    }\n",
       "</style>\n",
       "<table border=\"1\" class=\"dataframe\">\n",
       "  <thead>\n",
       "    <tr style=\"text-align: right;\">\n",
       "      <th></th>\n",
       "      <th>system</th>\n",
       "      <th>li</th>\n",
       "      <th>ui</th>\n",
       "      <th>p95</th>\n",
       "      <th>count</th>\n",
       "    </tr>\n",
       "  </thead>\n",
       "  <tbody>\n",
       "    <tr>\n",
       "      <th>0</th>\n",
       "      <td>muck_star-small</td>\n",
       "      <td>18157.0</td>\n",
       "      <td>20041.0</td>\n",
       "      <td>16586.0</td>\n",
       "      <td>87</td>\n",
       "    </tr>\n",
       "    <tr>\n",
       "      <th>1</th>\n",
       "      <td>muck_star-small</td>\n",
       "      <td>17441.0</td>\n",
       "      <td>20052.0</td>\n",
       "      <td>17751.0</td>\n",
       "      <td>52</td>\n",
       "    </tr>\n",
       "    <tr>\n",
       "      <th>2</th>\n",
       "      <td>muck_star-small</td>\n",
       "      <td>3009.0</td>\n",
       "      <td>4803.0</td>\n",
       "      <td>3844.0</td>\n",
       "      <td>33</td>\n",
       "    </tr>\n",
       "    <tr>\n",
       "      <th>3</th>\n",
       "      <td>muck_star-small</td>\n",
       "      <td>7010.0</td>\n",
       "      <td>10679.0</td>\n",
       "      <td>6166.0</td>\n",
       "      <td>31</td>\n",
       "    </tr>\n",
       "    <tr>\n",
       "      <th>4</th>\n",
       "      <td>muck_star-small</td>\n",
       "      <td>18157.0</td>\n",
       "      <td>20041.0</td>\n",
       "      <td>16586.0</td>\n",
       "      <td>87</td>\n",
       "    </tr>\n",
       "  </tbody>\n",
       "</table>\n",
       "</div>"
      ],
      "text/plain": [
       "            system       li       ui      p95   count\n",
       "0  muck_star-small  18157.0  20041.0  16586.0      87\n",
       "1  muck_star-small  17441.0  20052.0  17751.0      52\n",
       "2  muck_star-small   3009.0   4803.0   3844.0      33\n",
       "3  muck_star-small   7010.0  10679.0   6166.0      31\n",
       "4  muck_star-small  18157.0  20041.0  16586.0      87"
      ]
     },
     "execution_count": 12,
     "metadata": {},
     "output_type": "execute_result"
    }
   ],
   "source": [
    "df.head()"
   ]
  },
  {
   "cell_type": "code",
   "execution_count": 13,
   "metadata": {},
   "outputs": [
    {
     "data": {
      "text/plain": [
       "Index(['system', ' li', ' ui', ' p95', ' count'], dtype='object')"
      ]
     },
     "execution_count": 13,
     "metadata": {},
     "output_type": "execute_result"
    }
   ],
   "source": [
    "df.columns"
   ]
  },
  {
   "cell_type": "code",
   "execution_count": 6,
   "metadata": {},
   "outputs": [],
   "source": [
    "df_bookstore = df[df.system == 'bookstore_nodejs']"
   ]
  },
  {
   "cell_type": "code",
   "execution_count": 16,
   "metadata": {},
   "outputs": [
    {
     "name": "stdout",
     "output_type": "stream",
     "text": [
      "60\n"
     ]
    },
    {
     "name": "stderr",
     "output_type": "stream",
     "text": [
      "<ipython-input-16-326e6938cb62>:2: UserWarning: Boolean Series key will be reindexed to match DataFrame index.\n",
      "  df_bookstore[df_bookstore[' li'] <= df_bookstore[' p95']][df_bookstore[' ui'] >= df_bookstore[' p95']].shape[0]\n"
     ]
    },
    {
     "data": {
      "text/plain": [
       "50"
      ]
     },
     "execution_count": 16,
     "metadata": {},
     "output_type": "execute_result"
    }
   ],
   "source": [
    "print(df_bookstore.shape[0])\n",
    "df_bookstore[df_bookstore['li'] <= df_bookstore['p95']][df_bookstore['ui'] >= df_bookstore['p95']].shape[0]"
   ]
  },
  {
   "cell_type": "code",
   "execution_count": null,
   "metadata": {},
   "outputs": [],
   "source": []
  }
 ],
 "metadata": {
  "kernelspec": {
   "display_name": "Python 3",
   "language": "python",
   "name": "python3"
  },
  "language_info": {
   "codemirror_mode": {
    "name": "ipython",
    "version": 3
   },
   "file_extension": ".py",
   "mimetype": "text/x-python",
   "name": "python",
   "nbconvert_exporter": "python",
   "pygments_lexer": "ipython3",
   "version": "3.8.6"
  }
 },
 "nbformat": 4,
 "nbformat_minor": 4
}
