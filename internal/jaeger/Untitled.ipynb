{
 "cells": [
  {
   "cell_type": "code",
   "execution_count": 1,
   "metadata": {},
   "outputs": [],
   "source": [
    "import pandas as pd"
   ]
  },
  {
   "cell_type": "code",
   "execution_count": 2,
   "metadata": {},
   "outputs": [],
   "source": [
    "df = pd.read_csv('./results-90.csv')"
   ]
  },
  {
   "cell_type": "code",
   "execution_count": 3,
   "metadata": {},
   "outputs": [
    {
     "data": {
      "text/html": [
       "<div>\n",
       "<style scoped>\n",
       "    .dataframe tbody tr th:only-of-type {\n",
       "        vertical-align: middle;\n",
       "    }\n",
       "\n",
       "    .dataframe tbody tr th {\n",
       "        vertical-align: top;\n",
       "    }\n",
       "\n",
       "    .dataframe thead th {\n",
       "        text-align: right;\n",
       "    }\n",
       "</style>\n",
       "<table border=\"1\" class=\"dataframe\">\n",
       "  <thead>\n",
       "    <tr style=\"text-align: right;\">\n",
       "      <th></th>\n",
       "      <th>system</th>\n",
       "      <th>li</th>\n",
       "      <th>ui</th>\n",
       "      <th>p95</th>\n",
       "      <th>count</th>\n",
       "    </tr>\n",
       "  </thead>\n",
       "  <tbody>\n",
       "    <tr>\n",
       "      <th>0</th>\n",
       "      <td>bookstore_nodejs</td>\n",
       "      <td>2099.0</td>\n",
       "      <td>2107.0</td>\n",
       "      <td>2099.5</td>\n",
       "      <td>970</td>\n",
       "    </tr>\n",
       "    <tr>\n",
       "      <th>1</th>\n",
       "      <td>bookstore_nodejs</td>\n",
       "      <td>14.0</td>\n",
       "      <td>15.0</td>\n",
       "      <td>14.0</td>\n",
       "      <td>971</td>\n",
       "    </tr>\n",
       "    <tr>\n",
       "      <th>2</th>\n",
       "      <td>bookstore_nodejs</td>\n",
       "      <td>18.0</td>\n",
       "      <td>18.0</td>\n",
       "      <td>18.0</td>\n",
       "      <td>1002</td>\n",
       "    </tr>\n",
       "    <tr>\n",
       "      <th>3</th>\n",
       "      <td>bookstore_nodejs</td>\n",
       "      <td>111.0</td>\n",
       "      <td>111.0</td>\n",
       "      <td>111.0</td>\n",
       "      <td>1440</td>\n",
       "    </tr>\n",
       "    <tr>\n",
       "      <th>4</th>\n",
       "      <td>bookstore_nodejs</td>\n",
       "      <td>15.0</td>\n",
       "      <td>15.0</td>\n",
       "      <td>15.0</td>\n",
       "      <td>1440</td>\n",
       "    </tr>\n",
       "  </tbody>\n",
       "</table>\n",
       "</div>"
      ],
      "text/plain": [
       "             system      li      ui     p95  count\n",
       "0  bookstore_nodejs  2099.0  2107.0  2099.5    970\n",
       "1  bookstore_nodejs    14.0    15.0    14.0    971\n",
       "2  bookstore_nodejs    18.0    18.0    18.0   1002\n",
       "3  bookstore_nodejs   111.0   111.0   111.0   1440\n",
       "4  bookstore_nodejs    15.0    15.0    15.0   1440"
      ]
     },
     "execution_count": 3,
     "metadata": {},
     "output_type": "execute_result"
    }
   ],
   "source": [
    "df.head()"
   ]
  },
  {
   "cell_type": "code",
   "execution_count": 4,
   "metadata": {},
   "outputs": [
    {
     "data": {
      "text/plain": [
       "Index(['system', 'li', 'ui', 'p95', 'count'], dtype='object')"
      ]
     },
     "execution_count": 4,
     "metadata": {},
     "output_type": "execute_result"
    }
   ],
   "source": [
    "df.columns"
   ]
  },
  {
   "cell_type": "code",
   "execution_count": 5,
   "metadata": {},
   "outputs": [
    {
     "name": "stdout",
     "output_type": "stream",
     "text": [
      "525\n"
     ]
    },
    {
     "name": "stderr",
     "output_type": "stream",
     "text": [
      "<ipython-input-5-c6238398a68e>:3: UserWarning: Boolean Series key will be reindexed to match DataFrame index.\n",
      "  df_bookstore[df_bookstore['li'] <= df_bookstore['p95']][df_bookstore['ui'] >= df_bookstore['p95']].shape[0]\n"
     ]
    },
    {
     "data": {
      "text/plain": [
       "522"
      ]
     },
     "execution_count": 5,
     "metadata": {},
     "output_type": "execute_result"
    }
   ],
   "source": [
    "df_bookstore = df[df.system == 'bookstore_nodejs']\n",
    "print(df_bookstore.shape[0])\n",
    "df_bookstore[df_bookstore['li'] <= df_bookstore['p95']][df_bookstore['ui'] >= df_bookstore['p95']].shape[0]"
   ]
  },
  {
   "cell_type": "code",
   "execution_count": 6,
   "metadata": {},
   "outputs": [
    {
     "name": "stdout",
     "output_type": "stream",
     "text": [
      "220\n"
     ]
    },
    {
     "name": "stderr",
     "output_type": "stream",
     "text": [
      "<ipython-input-6-5f9ecf7548d1>:3: UserWarning: Boolean Series key will be reindexed to match DataFrame index.\n",
      "  df_hub[df_hub['li'] <= df_hub['p95']][df_hub['ui'] >= df_hub['p95']].shape[0]\n"
     ]
    },
    {
     "data": {
      "text/plain": [
       "214"
      ]
     },
     "execution_count": 6,
     "metadata": {},
     "output_type": "execute_result"
    }
   ],
   "source": [
    "df_hub = df[df.system == 'muck_star-small']\n",
    "print(df_hub.shape[0])\n",
    "df_hub[df_hub['li'] <= df_hub['p95']][df_hub['ui'] >= df_hub['p95']].shape[0]"
   ]
  },
  {
   "cell_type": "code",
   "execution_count": 7,
   "metadata": {},
   "outputs": [
    {
     "data": {
      "text/plain": [
       "0.04347705002348767"
      ]
     },
     "execution_count": 7,
     "metadata": {},
     "output_type": "execute_result"
    }
   ],
   "source": [
    "import numpy as np\n",
    "vals = []\n",
    "for _, row in df_hub.iterrows():   \n",
    "    if row.p95 <= row['ui'] and row.p95 >= row['li']: continue\n",
    "    d1 = abs(row['ui'] - row.p95)\n",
    "    d2 = abs(row['li'] - row.p95)\n",
    "    d = min(d1,d2)\n",
    "    vals.append(d/row.p95)\n",
    "np.mean(vals)"
   ]
  },
  {
   "cell_type": "code",
   "execution_count": 8,
   "metadata": {},
   "outputs": [
    {
     "data": {
      "text/plain": [
       "525     191\n",
       "526     586\n",
       "527     326\n",
       "528     193\n",
       "529     337\n",
       "       ... \n",
       "740     809\n",
       "741     830\n",
       "742    2498\n",
       "743    1393\n",
       "744     831\n",
       "Name: count, Length: 220, dtype: int64"
      ]
     },
     "execution_count": 8,
     "metadata": {},
     "output_type": "execute_result"
    }
   ],
   "source": [
    "df_hub['count']"
   ]
  },
  {
   "cell_type": "code",
   "execution_count": null,
   "metadata": {},
   "outputs": [],
   "source": []
  }
 ],
 "metadata": {
  "kernelspec": {
   "display_name": "Python 3",
   "language": "python",
   "name": "python3"
  },
  "language_info": {
   "codemirror_mode": {
    "name": "ipython",
    "version": 3
   },
   "file_extension": ".py",
   "mimetype": "text/x-python",
   "name": "python",
   "nbconvert_exporter": "python",
   "pygments_lexer": "ipython3",
   "version": "3.8.6"
  }
 },
 "nbformat": 4,
 "nbformat_minor": 4
}
